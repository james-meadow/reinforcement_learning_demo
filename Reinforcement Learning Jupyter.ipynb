{
 "cells": [
  {
   "cell_type": "markdown",
   "metadata": {
    "slideshow": {
     "slide_type": "-"
    }
   },
   "source": [
    "# Reinforcement Learning"
   ]
  },
  {
   "cell_type": "markdown",
   "metadata": {},
   "source": [
    "First step: Import the environment into a variable"
   ]
  },
  {
   "cell_type": "code",
   "execution_count": null,
   "metadata": {},
   "outputs": [],
   "source": [
    "## if necessary, this is a quick, safe way to install into a jupyter environment. \n",
    "# import sys\n",
    "# !{sys.executable} -m pip install gym "
   ]
  },
  {
   "cell_type": "code",
   "execution_count": null,
   "metadata": {
    "scrolled": true
   },
   "outputs": [],
   "source": [
    "import gym\n",
    "import matplotlib.pyplot as plt\n",
    "import numpy as np\n",
    "%matplotlib inline\n",
    "env = gym.make(\"MountainCar-v0\")\n",
    "env.reset();"
   ]
  },
  {
   "cell_type": "markdown",
   "metadata": {},
   "source": [
    "Second step: Understand the action/state spaces"
   ]
  },
  {
   "cell_type": "code",
   "execution_count": null,
   "metadata": {},
   "outputs": [],
   "source": [
    "print(\"Highest Observation space:\",env.observation_space.high)\n",
    "print(\"Lowest Observation space:\", env.observation_space.low)\n",
    "print(\"Number of actions possible:\", env.action_space.n)"
   ]
  },
  {
   "cell_type": "markdown",
   "metadata": {},
   "source": [
    "Most interesting part of the observation space: we are using coordinates, meaning that it is continuous."
   ]
  },
  {
   "cell_type": "markdown",
   "metadata": {},
   "source": [
    "Third step: Decide the algorithm that we want to use, alongside assumptions.\n",
    "\n",
    "We will be using QLearning, and for QLearning to work we need to go from a continuous to discrete. We will be using different number of bins, and put observations inside bins."
   ]
  },
  {
   "cell_type": "code",
   "execution_count": null,
   "metadata": {},
   "outputs": [],
   "source": [
    "numberOfBins = [20]\n",
    "osSize = numberOfBins * len(env.observation_space.high) \n",
    "binSize = (env.observation_space.high - env.observation_space.low)/osSize"
   ]
  },
  {
   "cell_type": "code",
   "execution_count": null,
   "metadata": {},
   "outputs": [],
   "source": [
    "xRange = np.linspace(env.observation_space.low[1], env.observation_space.high[1],osSize[0])\n",
    "yRange = np.linspace(env.observation_space.low[0], env.observation_space.high[0],osSize[1])\n",
    "plt.xticks(xRange, rotation = 20)\n",
    "plt.yticks(yRange)\n",
    "plt.xlim([min(xRange), max(xRange)])\n",
    "plt.ylim([min(yRange), max(yRange)])\n",
    "plt.grid()\n",
    "print(binSize)"
   ]
  },
  {
   "cell_type": "markdown",
   "metadata": {},
   "source": [
    "Training the Agent"
   ]
  },
  {
   "cell_type": "code",
   "execution_count": null,
   "metadata": {},
   "outputs": [],
   "source": [
    "def get_discrete_state(state):\n",
    "    \"\"\"\n",
    "    Helper function used to put state into bins\n",
    "    \"\"\"\n",
    "    discreteState = (state - env.observation_space.low)/binSize\n",
    "    return tuple(discreteState.astype(np.int))\n",
    "\n",
    "# Define variables\n",
    "numEpisodes = 25_000\n",
    "epsilon = 1\n",
    "epsilonDecay = 0.99//(25_000 - 100)\n",
    "discountFactor = 0.95\n",
    "learningRate = 0.1\n",
    "\n",
    "\n",
    "# Define the Q-table\n",
    "qTable = np.zeros(shape = (osSize + [env.action_space.n])) # number of Spaces x number of actions"
   ]
  },
  {
   "cell_type": "code",
   "execution_count": null,
   "metadata": {},
   "outputs": [],
   "source": [
    "rewardsPerEpisode = []\n",
    "for episodeNum in range(numEpisodes):\n",
    "    done = False\n",
    "    state = env.reset()\n",
    "    episodeReward= 0\n",
    "    while not done:\n",
    "        transformedState = get_discrete_state(state)        \n",
    "        #Taking action logic\n",
    "        if np.random.rand() < epsilon:\n",
    "        \taction = np.argmax(qTable[transformedState])\n",
    "        else:\n",
    "            action = env.action_space.sample()\n",
    "        \n",
    "        #Interacting with the environment\n",
    "        new_state, reward, done, _ = env.step(action)\n",
    "        \n",
    "        #Update qTable\n",
    "        newDiscreteState = get_discrete_state(new_state)\n",
    "        \n",
    "        if not done:\n",
    "         \tmaxFutureQ = np.max(qTable[newDiscreteState])\n",
    "         \tcurrentQ = qTable[transformedState + (action,)]\n",
    "         \tnewQ = (1-learningRate) * currentQ +  learningRate* (reward + discountFactor * maxFutureQ)\n",
    "         \tqTable[transformedState + (action,)] = newQ\n",
    "         \tepisodeReward += reward\n",
    "        elif new_state[0] >= env.goal_position:\n",
    "        \tqTable[transformedState + (action,)]  = 0\n",
    "\n",
    "        state = new_state\n",
    "    epsilon -= epsilonDecay\n",
    "    rewardsPerEpisode.append(episodeReward)\n",
    "env.close()"
   ]
  },
  {
   "cell_type": "code",
   "execution_count": null,
   "metadata": {},
   "outputs": [],
   "source": [
    "plt.plot(range(numEpisodes), rewardsPerEpisode);\n",
    "plt.title('Reward by episode');\n",
    "plt.xlabel('Episode Number');\n",
    "plt.ylabel('Reward');\n",
    "plt.savefig('Image.png')"
   ]
  },
  {
   "cell_type": "code",
   "execution_count": null,
   "metadata": {},
   "outputs": [],
   "source": []
  }
 ],
 "metadata": {
  "celltoolbar": "Slideshow",
  "kernelspec": {
   "display_name": "Python 3",
   "language": "python",
   "name": "python3"
  },
  "language_info": {
   "codemirror_mode": {
    "name": "ipython",
    "version": 3
   },
   "file_extension": ".py",
   "mimetype": "text/x-python",
   "name": "python",
   "nbconvert_exporter": "python",
   "pygments_lexer": "ipython3",
   "version": "3.6.5"
  }
 },
 "nbformat": 4,
 "nbformat_minor": 2
}
